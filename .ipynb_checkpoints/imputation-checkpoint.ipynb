{
 "cells": [
  {
   "cell_type": "code",
   "execution_count": 1,
   "metadata": {},
   "outputs": [],
   "source": [
    "from ingestion import ingestion"
   ]
  },
  {
   "cell_type": "code",
   "execution_count": 2,
   "metadata": {},
   "outputs": [],
   "source": [
    "import pandas as pd"
   ]
  },
  {
   "cell_type": "code",
   "execution_count": 3,
   "metadata": {},
   "outputs": [],
   "source": [
    "path = \"./data/\""
   ]
  },
  {
   "cell_type": "code",
   "execution_count": 4,
   "metadata": {},
   "outputs": [
    {
     "name": "stdout",
     "output_type": "stream",
     "text": [
      "['test_cases.zip', 'test_cases1.zip']\n",
      "Select the file(zero indexed): 0\n",
      "The File contains: 1460 rows and 81 columns\n"
     ]
    }
   ],
   "source": [
    "train  = ingestion.ingest(path)"
   ]
  },
  {
   "cell_type": "code",
   "execution_count": 5,
   "metadata": {},
   "outputs": [],
   "source": [
    "from imputation import imputation"
   ]
  },
  {
   "cell_type": "code",
   "execution_count": 6,
   "metadata": {},
   "outputs": [
    {
     "name": "stdout",
     "output_type": "stream",
     "text": [
      "Your selected dataframe has 81 columns.\n",
      "There are 19 columns that have missing values.\n",
      "              Missing Values  % of Total Values\n",
      "PoolQC                  1453               99.5\n",
      "MiscFeature             1406               96.3\n",
      "Alley                   1369               93.8\n",
      "Fence                   1179               80.8\n",
      "FireplaceQu              690               47.3\n",
      "LotFrontage              259               17.7\n",
      "GarageType                81                5.5\n",
      "GarageYrBlt               81                5.5\n",
      "GarageFinish              81                5.5\n",
      "GarageQual                81                5.5\n",
      "GarageCond                81                5.5\n",
      "BsmtExposure              38                2.6\n",
      "BsmtFinType2              38                2.6\n",
      "BsmtFinType1              37                2.5\n",
      "BsmtCond                  37                2.5\n",
      "BsmtQual                  37                2.5\n",
      "MasVnrArea                 8                0.5\n",
      "MasVnrType                 8                0.5\n",
      "Electrical                 1                0.1\n"
     ]
    }
   ],
   "source": [
    "train, imputed_with = imputation.imputation(train)"
   ]
  },
  {
   "cell_type": "code",
   "execution_count": 7,
   "metadata": {},
   "outputs": [],
   "source": [
    "from imputation import missing"
   ]
  },
  {
   "cell_type": "code",
   "execution_count": 8,
   "metadata": {},
   "outputs": [
    {
     "name": "stdout",
     "output_type": "stream",
     "text": [
      "Your selected dataframe has 100 columns.\n",
      "There are 0 columns that have missing values.\n",
      "Empty DataFrame\n",
      "Columns: [Missing Values, % of Total Values]\n",
      "Index: []\n"
     ]
    },
    {
     "data": {
      "text/plain": [
       "Series([], Name: index, dtype: object)"
      ]
     },
     "execution_count": 8,
     "metadata": {},
     "output_type": "execute_result"
    }
   ],
   "source": [
    "missing.missing_values_table(train)"
   ]
  },
  {
   "cell_type": "code",
   "execution_count": null,
   "metadata": {},
   "outputs": [],
   "source": []
  }
 ],
 "metadata": {
  "kernelspec": {
   "display_name": "hackathon",
   "language": "python",
   "name": "hackathon"
  },
  "language_info": {
   "codemirror_mode": {
    "name": "ipython",
    "version": 2
   },
   "file_extension": ".py",
   "mimetype": "text/x-python",
   "name": "python",
   "nbconvert_exporter": "python",
   "pygments_lexer": "ipython2",
   "version": "2.7.15"
  }
 },
 "nbformat": 4,
 "nbformat_minor": 2
}
