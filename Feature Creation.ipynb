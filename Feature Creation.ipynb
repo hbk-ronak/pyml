{
 "cells": [
  {
   "cell_type": "code",
   "execution_count": 123,
   "metadata": {},
   "outputs": [],
   "source": [
    "from ingestion import ingestion\n",
    "import pandas as pd"
   ]
  },
  {
   "cell_type": "code",
   "execution_count": 124,
   "metadata": {},
   "outputs": [],
   "source": [
    "path = \"./data/\""
   ]
  },
  {
   "cell_type": "code",
   "execution_count": 125,
   "metadata": {},
   "outputs": [
    {
     "name": "stdout",
     "output_type": "stream",
     "text": [
      "['test_cases.zip', 'test_cases1.zip']\n",
      "Select the file(zero indexed): 1\n",
      "The File contains: 891 rows and 12 columns\n"
     ]
    }
   ],
   "source": [
    "train  = ingestion.ingest(path)"
   ]
  },
  {
   "cell_type": "code",
   "execution_count": 126,
   "metadata": {},
   "outputs": [],
   "source": [
    "from seperation import seperation\n",
    "idx, categorical, continous = seperation.seperation(train)"
   ]
  },
  {
   "cell_type": "code",
   "execution_count": 127,
   "metadata": {},
   "outputs": [],
   "source": [
    "from imputation import imputation"
   ]
  },
  {
   "cell_type": "code",
   "execution_count": 128,
   "metadata": {},
   "outputs": [
    {
     "name": "stdout",
     "output_type": "stream",
     "text": [
      "(['PassengerId'], ['Survived', 'Pclass', 'Name', 'Sex', 'SibSp', 'Parch', 'Ticket', 'Cabin', 'Embarked'], ['Age', 'Fare'])\n",
      "Your selected dataframe has 12 columns.\n",
      "There are 3 columns that have missing values.\n",
      "          Missing Values  % of Total Values\n",
      "Cabin                687               77.1\n",
      "Age                  177               19.9\n",
      "Embarked               2                0.2\n"
     ]
    }
   ],
   "source": [
    "train, imputed_with = imputation.imputation(train)"
   ]
  },
  {
   "cell_type": "code",
   "execution_count": 129,
   "metadata": {},
   "outputs": [
    {
     "data": {
      "text/plain": [
       "{'Age': 28.0, 'Cabin': 'NA', 'Embarked': 'NA'}"
      ]
     },
     "execution_count": 129,
     "metadata": {},
     "output_type": "execute_result"
    }
   ],
   "source": [
    "imputed_with"
   ]
  },
  {
   "cell_type": "code",
   "execution_count": 130,
   "metadata": {},
   "outputs": [
    {
     "data": {
      "text/plain": [
       "['Age', 'Fare']"
      ]
     },
     "execution_count": 130,
     "metadata": {},
     "output_type": "execute_result"
    }
   ],
   "source": [
    "continous"
   ]
  },
  {
   "cell_type": "code",
   "execution_count": 131,
   "metadata": {},
   "outputs": [],
   "source": [
    "def feature_generation_cont(df, continous, target):\n",
    "    \"\"\"Continous Variables\"\"\"\n",
    "    \n",
    "    for i in range(len(continous)-1):\n",
    "        var_1 = continous[i]\n",
    "        var_2 = continous[i+1]\n",
    "        # ratios\n",
    "        df[\"ratio_\"+str(var_1)+\"_\"+str(var_2)] = df[var_1].astype(\"float\")/df[var_2].astype(\"float\")\n",
    "        #products\n",
    "        df[\"prod_\"+str(var_1)+\"_\"+str(var_2)] = df[var_1].astype(\"float\")*df[var_2].astype(\"float\")\n",
    "    \n",
    "    for i in range(len(continous)):\n",
    "        var_1 = continous[i]\n",
    "        #square\n",
    "        df[\"sqr_\"+str(var_1)] = df[var_1].apply(lambda x: x**2)\n",
    "        \n",
    "    return df\n",
    "    "
   ]
  },
  {
   "cell_type": "code",
   "execution_count": 132,
   "metadata": {},
   "outputs": [],
   "source": [
    "train = feature_generation_cont(train, continous, \"Survived\")"
   ]
  },
  {
   "cell_type": "code",
   "execution_count": 133,
   "metadata": {},
   "outputs": [
    {
     "data": {
      "text/plain": [
       "Index([u'PassengerId', u'Survived', u'Pclass', u'Name', u'Sex', u'Age',\n",
       "       u'SibSp', u'Parch', u'Ticket', u'Fare', u'Cabin', u'Embarked',\n",
       "       u'Cabin_imputed', u'Age_imputed', u'Embarked_imputed',\n",
       "       u'ratio_Age_Fare', u'prod_Age_Fare', u'sqr_Age', u'sqr_Fare'],\n",
       "      dtype='object')"
      ]
     },
     "execution_count": 133,
     "metadata": {},
     "output_type": "execute_result"
    }
   ],
   "source": [
    "train.columns"
   ]
  },
  {
   "cell_type": "code",
   "execution_count": 134,
   "metadata": {},
   "outputs": [],
   "source": [
    "def count_to_dict(df, col):\n",
    "    grp = df.groupby([col])[col].agg(['count']).reset_index()\n",
    "    dt = {}\n",
    "    for i in range(grp.shape[0]):\n",
    "        dt[grp.iloc[i,0]] = grp.iloc[i,1]\n",
    "    return dt"
   ]
  },
  {
   "cell_type": "code",
   "execution_count": 135,
   "metadata": {},
   "outputs": [],
   "source": [
    "import pandas as pd"
   ]
  },
  {
   "cell_type": "code",
   "execution_count": 136,
   "metadata": {},
   "outputs": [],
   "source": [
    "def feature_generation_catg(df, categorical, target):\n",
    "    '''categorical variables'''\n",
    "    for col in categorical:\n",
    "        if col == target:\n",
    "            pass\n",
    "        else:\n",
    "            dt = count_to_dict(df, col)\n",
    "            df[\"count_\"+str(col)] = df[col].apply(lambda x: dt[x])\n",
    "    \n",
    "    one_hot = []\n",
    "    drop = []\n",
    "    for col in categorical:\n",
    "        if col == target:\n",
    "            pass\n",
    "        else:\n",
    "            if float(len(df[col].unique()))/df.shape[0] <= .10:\n",
    "                one_hot.append(col)\n",
    "            else:\n",
    "                drop.append(col)\n",
    "    df = pd.get_dummies(df, columns = one_hot, drop_first = True)\n",
    "    df = df.drop(drop, axis = 1)\n",
    "    \n",
    "                \n",
    "    return df"
   ]
  },
  {
   "cell_type": "code",
   "execution_count": 137,
   "metadata": {},
   "outputs": [
    {
     "data": {
      "text/plain": [
       "Index([u'PassengerId', u'Survived', u'Age', u'Fare', u'Cabin_imputed',\n",
       "       u'Age_imputed', u'Embarked_imputed', u'ratio_Age_Fare',\n",
       "       u'prod_Age_Fare', u'sqr_Age', u'sqr_Fare', u'count_Pclass',\n",
       "       u'count_Name', u'count_Sex', u'count_SibSp', u'count_Parch',\n",
       "       u'count_Ticket', u'count_Cabin', u'count_Embarked', u'Pclass_2',\n",
       "       u'Pclass_3', u'Sex_male', u'SibSp_1', u'SibSp_2', u'SibSp_3',\n",
       "       u'SibSp_4', u'SibSp_5', u'SibSp_8', u'Parch_1', u'Parch_2', u'Parch_3',\n",
       "       u'Parch_4', u'Parch_5', u'Parch_6', u'Embarked_NA', u'Embarked_Q',\n",
       "       u'Embarked_S'],\n",
       "      dtype='object')"
      ]
     },
     "execution_count": 137,
     "metadata": {},
     "output_type": "execute_result"
    }
   ],
   "source": [
    "train = feature_generation_catg(train, categorical, \"Survived\")\n",
    "train.columns"
   ]
  },
  {
   "cell_type": "code",
   "execution_count": 138,
   "metadata": {},
   "outputs": [
    {
     "data": {
      "text/html": [
       "<div>\n",
       "<style scoped>\n",
       "    .dataframe tbody tr th:only-of-type {\n",
       "        vertical-align: middle;\n",
       "    }\n",
       "\n",
       "    .dataframe tbody tr th {\n",
       "        vertical-align: top;\n",
       "    }\n",
       "\n",
       "    .dataframe thead th {\n",
       "        text-align: right;\n",
       "    }\n",
       "</style>\n",
       "<table border=\"1\" class=\"dataframe\">\n",
       "  <thead>\n",
       "    <tr style=\"text-align: right;\">\n",
       "      <th></th>\n",
       "      <th>PassengerId</th>\n",
       "      <th>Survived</th>\n",
       "      <th>Age</th>\n",
       "      <th>Fare</th>\n",
       "      <th>Cabin_imputed</th>\n",
       "      <th>Age_imputed</th>\n",
       "      <th>Embarked_imputed</th>\n",
       "      <th>ratio_Age_Fare</th>\n",
       "      <th>prod_Age_Fare</th>\n",
       "      <th>sqr_Age</th>\n",
       "      <th>...</th>\n",
       "      <th>SibSp_8</th>\n",
       "      <th>Parch_1</th>\n",
       "      <th>Parch_2</th>\n",
       "      <th>Parch_3</th>\n",
       "      <th>Parch_4</th>\n",
       "      <th>Parch_5</th>\n",
       "      <th>Parch_6</th>\n",
       "      <th>Embarked_NA</th>\n",
       "      <th>Embarked_Q</th>\n",
       "      <th>Embarked_S</th>\n",
       "    </tr>\n",
       "  </thead>\n",
       "  <tbody>\n",
       "    <tr>\n",
       "      <th>0</th>\n",
       "      <td>1</td>\n",
       "      <td>0</td>\n",
       "      <td>22.0</td>\n",
       "      <td>7.2500</td>\n",
       "      <td>1</td>\n",
       "      <td>0</td>\n",
       "      <td>0</td>\n",
       "      <td>3.034483</td>\n",
       "      <td>159.5000</td>\n",
       "      <td>484.0</td>\n",
       "      <td>...</td>\n",
       "      <td>0</td>\n",
       "      <td>0</td>\n",
       "      <td>0</td>\n",
       "      <td>0</td>\n",
       "      <td>0</td>\n",
       "      <td>0</td>\n",
       "      <td>0</td>\n",
       "      <td>0</td>\n",
       "      <td>0</td>\n",
       "      <td>1</td>\n",
       "    </tr>\n",
       "    <tr>\n",
       "      <th>1</th>\n",
       "      <td>2</td>\n",
       "      <td>1</td>\n",
       "      <td>38.0</td>\n",
       "      <td>71.2833</td>\n",
       "      <td>0</td>\n",
       "      <td>0</td>\n",
       "      <td>0</td>\n",
       "      <td>0.533084</td>\n",
       "      <td>2708.7654</td>\n",
       "      <td>1444.0</td>\n",
       "      <td>...</td>\n",
       "      <td>0</td>\n",
       "      <td>0</td>\n",
       "      <td>0</td>\n",
       "      <td>0</td>\n",
       "      <td>0</td>\n",
       "      <td>0</td>\n",
       "      <td>0</td>\n",
       "      <td>0</td>\n",
       "      <td>0</td>\n",
       "      <td>0</td>\n",
       "    </tr>\n",
       "    <tr>\n",
       "      <th>2</th>\n",
       "      <td>3</td>\n",
       "      <td>1</td>\n",
       "      <td>26.0</td>\n",
       "      <td>7.9250</td>\n",
       "      <td>1</td>\n",
       "      <td>0</td>\n",
       "      <td>0</td>\n",
       "      <td>3.280757</td>\n",
       "      <td>206.0500</td>\n",
       "      <td>676.0</td>\n",
       "      <td>...</td>\n",
       "      <td>0</td>\n",
       "      <td>0</td>\n",
       "      <td>0</td>\n",
       "      <td>0</td>\n",
       "      <td>0</td>\n",
       "      <td>0</td>\n",
       "      <td>0</td>\n",
       "      <td>0</td>\n",
       "      <td>0</td>\n",
       "      <td>1</td>\n",
       "    </tr>\n",
       "    <tr>\n",
       "      <th>3</th>\n",
       "      <td>4</td>\n",
       "      <td>1</td>\n",
       "      <td>35.0</td>\n",
       "      <td>53.1000</td>\n",
       "      <td>0</td>\n",
       "      <td>0</td>\n",
       "      <td>0</td>\n",
       "      <td>0.659134</td>\n",
       "      <td>1858.5000</td>\n",
       "      <td>1225.0</td>\n",
       "      <td>...</td>\n",
       "      <td>0</td>\n",
       "      <td>0</td>\n",
       "      <td>0</td>\n",
       "      <td>0</td>\n",
       "      <td>0</td>\n",
       "      <td>0</td>\n",
       "      <td>0</td>\n",
       "      <td>0</td>\n",
       "      <td>0</td>\n",
       "      <td>1</td>\n",
       "    </tr>\n",
       "    <tr>\n",
       "      <th>4</th>\n",
       "      <td>5</td>\n",
       "      <td>0</td>\n",
       "      <td>35.0</td>\n",
       "      <td>8.0500</td>\n",
       "      <td>1</td>\n",
       "      <td>0</td>\n",
       "      <td>0</td>\n",
       "      <td>4.347826</td>\n",
       "      <td>281.7500</td>\n",
       "      <td>1225.0</td>\n",
       "      <td>...</td>\n",
       "      <td>0</td>\n",
       "      <td>0</td>\n",
       "      <td>0</td>\n",
       "      <td>0</td>\n",
       "      <td>0</td>\n",
       "      <td>0</td>\n",
       "      <td>0</td>\n",
       "      <td>0</td>\n",
       "      <td>0</td>\n",
       "      <td>1</td>\n",
       "    </tr>\n",
       "  </tbody>\n",
       "</table>\n",
       "<p>5 rows × 37 columns</p>\n",
       "</div>"
      ],
      "text/plain": [
       "   PassengerId  Survived   Age     Fare  Cabin_imputed  Age_imputed  \\\n",
       "0            1         0  22.0   7.2500              1            0   \n",
       "1            2         1  38.0  71.2833              0            0   \n",
       "2            3         1  26.0   7.9250              1            0   \n",
       "3            4         1  35.0  53.1000              0            0   \n",
       "4            5         0  35.0   8.0500              1            0   \n",
       "\n",
       "   Embarked_imputed  ratio_Age_Fare  prod_Age_Fare  sqr_Age     ...      \\\n",
       "0                 0        3.034483       159.5000    484.0     ...       \n",
       "1                 0        0.533084      2708.7654   1444.0     ...       \n",
       "2                 0        3.280757       206.0500    676.0     ...       \n",
       "3                 0        0.659134      1858.5000   1225.0     ...       \n",
       "4                 0        4.347826       281.7500   1225.0     ...       \n",
       "\n",
       "   SibSp_8  Parch_1  Parch_2  Parch_3  Parch_4  Parch_5  Parch_6  Embarked_NA  \\\n",
       "0        0        0        0        0        0        0        0            0   \n",
       "1        0        0        0        0        0        0        0            0   \n",
       "2        0        0        0        0        0        0        0            0   \n",
       "3        0        0        0        0        0        0        0            0   \n",
       "4        0        0        0        0        0        0        0            0   \n",
       "\n",
       "   Embarked_Q  Embarked_S  \n",
       "0           0           1  \n",
       "1           0           0  \n",
       "2           0           1  \n",
       "3           0           1  \n",
       "4           0           1  \n",
       "\n",
       "[5 rows x 37 columns]"
      ]
     },
     "execution_count": 138,
     "metadata": {},
     "output_type": "execute_result"
    }
   ],
   "source": [
    "train.head(5)"
   ]
  },
  {
   "cell_type": "code",
   "execution_count": null,
   "metadata": {},
   "outputs": [],
   "source": [
    "def feature_generation(df, continous, categorical, target):\n",
    "    df = feature_generation_cont(df, continous, target)\n",
    "    df = feature_generation_catg(df, categorical, target)"
   ]
  }
 ],
 "metadata": {
  "kernelspec": {
   "display_name": "hackathon",
   "language": "python",
   "name": "hackathon"
  },
  "language_info": {
   "codemirror_mode": {
    "name": "ipython",
    "version": 2
   },
   "file_extension": ".py",
   "mimetype": "text/x-python",
   "name": "python",
   "nbconvert_exporter": "python",
   "pygments_lexer": "ipython2",
   "version": "2.7.15"
  }
 },
 "nbformat": 4,
 "nbformat_minor": 2
}
