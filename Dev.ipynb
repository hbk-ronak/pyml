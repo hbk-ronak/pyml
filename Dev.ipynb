{
 "cells": [
  {
   "cell_type": "code",
   "execution_count": 1,
   "metadata": {},
   "outputs": [],
   "source": [
    "from ingestion import ingestion"
   ]
  },
  {
   "cell_type": "code",
   "execution_count": 9,
   "metadata": {},
   "outputs": [],
   "source": [
    "import pandas as pd"
   ]
  },
  {
   "cell_type": "code",
   "execution_count": 2,
   "metadata": {},
   "outputs": [],
   "source": [
    "path = \"./data/\""
   ]
  },
  {
   "cell_type": "code",
   "execution_count": 58,
   "metadata": {},
   "outputs": [
    {
     "name": "stdout",
     "output_type": "stream",
     "text": [
      "['test_cases.zip', 'test_cases1.zip']\n",
      "Select the file(zero indexed): 0\n",
      "The File contains: 1460 rows and 81 columns\n"
     ]
    }
   ],
   "source": [
    "train  = ingestion.ingest(path)"
   ]
  },
  {
   "cell_type": "code",
   "execution_count": 59,
   "metadata": {},
   "outputs": [],
   "source": [
    "from seperation import seperation"
   ]
  },
  {
   "cell_type": "code",
   "execution_count": 7,
   "metadata": {},
   "outputs": [],
   "source": [
    "def missing_values_table(df):\n",
    "        mis_val = df.isnull().sum()\n",
    "        mis_val_percent = 100 * df.isnull().sum() / len(df)\n",
    "        mis_val_table = pd.concat([mis_val, mis_val_percent], axis=1)\n",
    "        mis_val_table_ren_columns = mis_val_table.rename(\n",
    "        columns = {0 : 'Missing Values', 1 : '% of Total Values'})\n",
    "        mis_val_table_ren_columns = mis_val_table_ren_columns[\n",
    "            mis_val_table_ren_columns.iloc[:,1] != 0].sort_values(\n",
    "        '% of Total Values', ascending=False).round(1)\n",
    "        print (\"Your selected dataframe has \" + str(df.shape[1]) + \" columns.\\n\"      \n",
    "            \"There are \" + str(mis_val_table_ren_columns.shape[0]) +\n",
    "              \" columns that have missing values.\")\n",
    "        print(mis_val_table_ren_columns)\n",
    "        cols = mis_val_table_ren_columns.reset_index()['index']\n",
    "        return cols"
   ]
  },
  {
   "cell_type": "code",
   "execution_count": 11,
   "metadata": {},
   "outputs": [
    {
     "name": "stdout",
     "output_type": "stream",
     "text": [
      "Your selected dataframe has 81 columns.\n",
      "There are 19 columns that have missing values.\n",
      "              Missing Values  % of Total Values\n",
      "PoolQC                  1453               99.5\n",
      "MiscFeature             1406               96.3\n",
      "Alley                   1369               93.8\n",
      "Fence                   1179               80.8\n",
      "FireplaceQu              690               47.3\n",
      "LotFrontage              259               17.7\n",
      "GarageType                81                5.5\n",
      "GarageYrBlt               81                5.5\n",
      "GarageFinish              81                5.5\n",
      "GarageQual                81                5.5\n",
      "GarageCond                81                5.5\n",
      "BsmtExposure              38                2.6\n",
      "BsmtFinType2              38                2.6\n",
      "BsmtFinType1              37                2.5\n",
      "BsmtCond                  37                2.5\n",
      "BsmtQual                  37                2.5\n",
      "MasVnrArea                 8                0.5\n",
      "MasVnrType                 8                0.5\n",
      "Electrical                 1                0.1\n"
     ]
    }
   ],
   "source": [
    "missed = missing_values_table(train)"
   ]
  },
  {
   "cell_type": "code",
   "execution_count": 12,
   "metadata": {},
   "outputs": [
    {
     "name": "stdout",
     "output_type": "stream",
     "text": [
      "0           PoolQC\n",
      "1      MiscFeature\n",
      "2            Alley\n",
      "3            Fence\n",
      "4      FireplaceQu\n",
      "5      LotFrontage\n",
      "6       GarageType\n",
      "7      GarageYrBlt\n",
      "8     GarageFinish\n",
      "9       GarageQual\n",
      "10      GarageCond\n",
      "11    BsmtExposure\n",
      "12    BsmtFinType2\n",
      "13    BsmtFinType1\n",
      "14        BsmtCond\n",
      "15        BsmtQual\n",
      "16      MasVnrArea\n",
      "17      MasVnrType\n",
      "18      Electrical\n",
      "Name: index, dtype: object\n"
     ]
    }
   ],
   "source": [
    "print(missed)"
   ]
  },
  {
   "cell_type": "code",
   "execution_count": 52,
   "metadata": {},
   "outputs": [],
   "source": [
    "def imputation(data, scheme = 'auto'):\n",
    "    idx, categorical, continous = seperation.seperation(train)\n",
    "    missed = missing_value_table(data)\n",
    "    imputed_with = {}\n",
    "    if scheme == 'auto':\n",
    "        for var in missed:\n",
    "            train[var+\"_imputed\"] = train[var].isna().apply(lambda x: 1 if x else 0)\n",
    "            if var in categorical:\n",
    "                train[var] = train[var].fillna(\"NA\")\n",
    "                imputed_with[var] = \"NA\" \n",
    "            if var in continous:\n",
    "                vals = train[var].median()\n",
    "                train[var] = train[var].fillna(vals)\n",
    "                imputed_with[var] = vals\n",
    "    else:\n",
    "        imputed_with = scheme\n",
    "        for key in scheme:\n",
    "            train[key+\"_imputed\"] = train[key].isna().apply(lambda x: 1 if x else 0)\n",
    "            train[key] = train[key].fillna(scheme[key])\n",
    "    return train, imputed_with"
   ]
  },
  {
   "cell_type": "code",
   "execution_count": 54,
   "metadata": {},
   "outputs": [],
   "source": [
    "train, imputed_with = imputation(train)"
   ]
  },
  {
   "cell_type": "code",
   "execution_count": 55,
   "metadata": {},
   "outputs": [
    {
     "name": "stdout",
     "output_type": "stream",
     "text": [
      "Your selected dataframe has 100 columns.\n",
      "There are 0 columns that have missing values.\n",
      "Empty DataFrame\n",
      "Columns: [Missing Values, % of Total Values]\n",
      "Index: []\n"
     ]
    }
   ],
   "source": [
    "missed = missing_values_table(train)"
   ]
  },
  {
   "cell_type": "code",
   "execution_count": 57,
   "metadata": {},
   "outputs": [],
   "source": [
    "scheme = imputed_with"
   ]
  },
  {
   "cell_type": "code",
   "execution_count": 60,
   "metadata": {},
   "outputs": [],
   "source": [
    "trin, imputed_with = imputation(train,scheme)"
   ]
  },
  {
   "cell_type": "code",
   "execution_count": 61,
   "metadata": {},
   "outputs": [
    {
     "name": "stdout",
     "output_type": "stream",
     "text": [
      "Your selected dataframe has 100 columns.\n",
      "There are 0 columns that have missing values.\n",
      "Empty DataFrame\n",
      "Columns: [Missing Values, % of Total Values]\n",
      "Index: []\n"
     ]
    }
   ],
   "source": [
    "missed = missing_values_table(train)"
   ]
  },
  {
   "cell_type": "code",
   "execution_count": null,
   "metadata": {},
   "outputs": [],
   "source": []
  }
 ],
 "metadata": {
  "kernelspec": {
   "display_name": "hackathon",
   "language": "python",
   "name": "hackathon"
  },
  "language_info": {
   "codemirror_mode": {
    "name": "ipython",
    "version": 2
   },
   "file_extension": ".py",
   "mimetype": "text/x-python",
   "name": "python",
   "nbconvert_exporter": "python",
   "pygments_lexer": "ipython2",
   "version": "2.7.15"
  }
 },
 "nbformat": 4,
 "nbformat_minor": 2
}
