{
 "cells": [
  {
   "cell_type": "code",
   "execution_count": 1,
   "metadata": {},
   "outputs": [],
   "source": [
    "import pandas as pd\n",
    "from ingestion import ingestion\n",
    "from imputation import imputation\n",
    "from feature_generation import feature_generation"
   ]
  },
  {
   "cell_type": "code",
   "execution_count": 2,
   "metadata": {},
   "outputs": [],
   "source": [
    "path = \"./data/\""
   ]
  },
  {
   "cell_type": "code",
   "execution_count": 3,
   "metadata": {},
   "outputs": [
    {
     "name": "stdout",
     "output_type": "stream",
     "text": [
      "['test_cases.zip', 'test_cases1.zip']\n",
      "Select the file(zero indexed): 1\n",
      "The File contains: 891 rows and 12 columns\n"
     ]
    }
   ],
   "source": [
    "train = ingestion.ingest(path)"
   ]
  },
  {
   "cell_type": "code",
   "execution_count": 4,
   "metadata": {},
   "outputs": [
    {
     "name": "stdout",
     "output_type": "stream",
     "text": [
      "Your selected dataframe has 12 columns.\n",
      "There are 3 columns that have missing values.\n",
      "          Missing Values  % of Total Values\n",
      "Cabin                687               77.1\n",
      "Age                  177               19.9\n",
      "Embarked               2                0.2\n"
     ]
    }
   ],
   "source": [
    "train, imputed_with = imputation.imputation(train)"
   ]
  },
  {
   "cell_type": "code",
   "execution_count": 5,
   "metadata": {},
   "outputs": [],
   "source": [
    "train = feature_generation.feature_generation(train, \"Survived\")"
   ]
  },
  {
   "cell_type": "code",
   "execution_count": 6,
   "metadata": {},
   "outputs": [
    {
     "data": {
      "text/plain": [
       "Index([u'PassengerId', u'Survived', u'Age', u'Fare', u'Cabin_imputed',\n",
       "       u'Age_imputed', u'Embarked_imputed', u'ratio_Age_Fare',\n",
       "       u'prod_Age_Fare', u'sqr_Age', u'sqr_Fare', u'count_Pclass',\n",
       "       u'count_Name', u'count_Sex', u'count_SibSp', u'count_Parch',\n",
       "       u'count_Ticket', u'count_Cabin', u'count_Embarked', u'Pclass_2',\n",
       "       u'Pclass_3', u'Sex_male', u'SibSp_1', u'SibSp_2', u'SibSp_3',\n",
       "       u'SibSp_4', u'SibSp_5', u'SibSp_8', u'Parch_1', u'Parch_2', u'Parch_3',\n",
       "       u'Parch_4', u'Parch_5', u'Parch_6', u'Embarked_NA', u'Embarked_Q',\n",
       "       u'Embarked_S'],\n",
       "      dtype='object')"
      ]
     },
     "execution_count": 6,
     "metadata": {},
     "output_type": "execute_result"
    }
   ],
   "source": [
    "train.columns"
   ]
  },
  {
   "cell_type": "code",
   "execution_count": null,
   "metadata": {},
   "outputs": [],
   "source": []
  }
 ],
 "metadata": {
  "kernelspec": {
   "display_name": "hackathon",
   "language": "python",
   "name": "hackathon"
  },
  "language_info": {
   "codemirror_mode": {
    "name": "ipython",
    "version": 2
   },
   "file_extension": ".py",
   "mimetype": "text/x-python",
   "name": "python",
   "nbconvert_exporter": "python",
   "pygments_lexer": "ipython2",
   "version": "2.7.15"
  }
 },
 "nbformat": 4,
 "nbformat_minor": 2
}
